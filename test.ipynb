{
 "cells": [
  {
   "cell_type": "code",
   "execution_count": 6,
   "metadata": {},
   "outputs": [],
   "source": [
    "import numpy as np\n",
    "import torch\n",
    "import torch.nn as nn\n",
    "import torch.nn.functional as F\n",
    "import math\n",
    "import copy\n",
    "import scipy.spatial\n",
    "import cv2\n",
    "import sys\n",
    "\n",
    "from unet import UNetModel\n",
    "from TSPDataset import TSPDataset\n",
    "from diffusion import GaussianDiffusion\n",
    "from tsp_utils import TSP_2opt, rasterize_tsp\n",
    "\n",
    "import tqdm\n",
    "import matplotlib.pyplot as plt\n",
    "import pandas as pd"
   ]
  },
  {
   "cell_type": "code",
   "execution_count": 22,
   "metadata": {},
   "outputs": [
    {
     "name": "stdout",
     "output_type": "stream",
     "text": [
      "torch.Size([1, 50, 50])\n"
     ]
    }
   ],
   "source": [
    "model = InferenceModel().to(device)"
   ]
  },
  {
   "cell_type": "code",
   "execution_count": 23,
   "metadata": {},
   "outputs": [
    {
     "data": {
      "text/plain": [
       "array([[0.80172755, 0.82984265],\n",
       "       [0.40353084, 0.34062357],\n",
       "       [0.75483188, 0.85058066],\n",
       "       [0.16019465, 0.64780491],\n",
       "       [0.26001421, 0.49896135],\n",
       "       [0.54942621, 0.24843942],\n",
       "       [0.44346185, 0.43859186],\n",
       "       [0.14160883, 0.9121662 ],\n",
       "       [0.92871643, 0.18396277],\n",
       "       [0.30951996, 0.03532724],\n",
       "       [0.20401236, 0.76071089],\n",
       "       [0.88110339, 0.8794378 ],\n",
       "       [0.41087569, 0.39016365],\n",
       "       [0.06339309, 0.59482519],\n",
       "       [0.2212461 , 0.91187278],\n",
       "       [0.51585109, 0.50272778],\n",
       "       [0.68861987, 0.33063631],\n",
       "       [0.52318356, 0.64734742],\n",
       "       [0.14414314, 0.0904547 ],\n",
       "       [0.64049827, 0.97418106],\n",
       "       [0.07993152, 0.96819778],\n",
       "       [0.37573494, 0.62213864],\n",
       "       [0.80888501, 0.99910387],\n",
       "       [0.87923738, 0.84012281],\n",
       "       [0.30555198, 0.28181883],\n",
       "       [0.58152741, 0.51314356],\n",
       "       [0.32825618, 0.9728271 ],\n",
       "       [0.25288552, 0.37874276],\n",
       "       [0.7109259 , 0.82598901],\n",
       "       [0.90429086, 0.59397997],\n",
       "       [0.38484948, 0.44969809],\n",
       "       [0.92519472, 0.34377629],\n",
       "       [0.24295516, 0.2546438 ],\n",
       "       [0.2727295 , 0.22496818],\n",
       "       [0.70393706, 0.95523963],\n",
       "       [0.8559316 , 0.03546353],\n",
       "       [0.29002755, 0.10149003],\n",
       "       [0.73096003, 0.3133354 ],\n",
       "       [0.57254977, 0.47578612],\n",
       "       [0.17828379, 0.42110386],\n",
       "       [0.6212547 , 0.26827004],\n",
       "       [0.43969118, 0.80636707],\n",
       "       [0.91549322, 0.25009976],\n",
       "       [0.17174661, 0.1780887 ],\n",
       "       [0.96260892, 0.71906374],\n",
       "       [0.70098377, 0.16593648],\n",
       "       [0.59399662, 0.56277572],\n",
       "       [0.28674031, 0.80996159],\n",
       "       [0.20454497, 0.47649451],\n",
       "       [0.78102788, 0.03878143]])"
      ]
     },
     "execution_count": 23,
     "metadata": {},
     "output_type": "execute_result"
    }
   ],
   "source": [
    "points"
   ]
  },
  {
   "cell_type": "code",
   "execution_count": 34,
   "metadata": {},
   "outputs": [],
   "source": [
    "edge_images = []\n",
    "for i in range(points.shape[0]):\n",
    "    node_edges = []\n",
    "    for j in range(points.shape[0]):\n",
    "        edge_img = np.zeros((img_size, img_size))\n",
    "        cv2.line(edge_img, \n",
    "                    tuple(((img_size-1)*points[i,::-1]).astype(int)), \n",
    "                    tuple(((img_size-1)*points[j,::-1]).astype(int)), \n",
    "                    color=test_dataset.line_color, thickness=test_dataset.line_thickness)\n",
    "        edge_img = torch.from_numpy(edge_img).float()\n",
    "\n",
    "        node_edges.append(edge_img)\n",
    "    node_edges = torch.stack(node_edges, dim=0)\n",
    "    edge_images.append(node_edges)\n",
    "edge_images = torch.stack(edge_images, dim=0)"
   ]
  },
  {
   "cell_type": "code",
   "execution_count": 4,
   "metadata": {},
   "outputs": [],
   "source": [
    "import numpy as np\n",
    "from matplotlib import pyplot as plt"
   ]
  },
  {
   "cell_type": "code",
   "execution_count": 5,
   "metadata": {},
   "outputs": [
    {
     "data": {
      "image/png": "[encoded data removed]",
      "text/plain": [
       "<Figure size 640x480 with 1 Axes>"
      ]
     },
     "metadata": {},
     "output_type": "display_data"
    }
   ],
   "source": [
    "img = np.load('./img.npy')\n",
    "plt.imshow(img[0,0], cmap='gray')\n",
    "plt.show()"
   ]
  },
  {
   "cell_type": "code",
   "execution_count": null,
   "metadata": {},
   "outputs": [],
   "source": []
  },
  {
   "cell_type": "code",
   "execution_count": null,
   "metadata": {},
   "outputs": [],
   "source": [
    "\n",
    "class InferenceModel(nn.Module):\n",
    "    def __init__(self):\n",
    "        super(InferenceModel, self).__init__()\n",
    "        \n",
    "        # Latent variables (b,v,v) matrix\n",
    "        self.latent = nn.Parameter(torch.randn(batch_size,points.shape[0],points.shape[0]))\n",
    "        self.latent.requires_grad = True\n",
    "\n",
    "        # Pre-compute edge images\n",
    "        self.edge_images = []\n",
    "        for i in range(points.shape[0]):\n",
    "            node_edges = []\n",
    "            for j in range(points.shape[0]):\n",
    "                edge_img = np.zeros((img_size, img_size))\n",
    "                cv2.line(edge_img, \n",
    "                         tuple(((img_size-1)*points[i,::-1]).astype(int)), \n",
    "                         tuple(((img_size-1)*points[j,::-1]).astype(int)), \n",
    "                         color=test_dataset.line_color, thickness=test_dataset.line_thickness)\n",
    "                edge_img = torch.from_numpy(edge_img).float().to(self.latent.device)\n",
    "\n",
    "                node_edges.append(edge_img)\n",
    "            node_edges = torch.stack(node_edges, dim=0)\n",
    "            self.edge_images.append(node_edges)\n",
    "        self.edge_images = torch.stack(self.edge_images, dim=0)\n",
    "                        \n",
    "    def encode(self):\n",
    "        # Compute permutation matrix\n",
    "        adj_mat = normalize(self.latent)\n",
    "\n",
    "        adj_mat_ = adj_mat\n",
    "        all_edges = self.edge_images.view(1,-1,img_size,img_size).to(adj_mat.device)\n",
    "        img = all_edges * adj_mat_.view(batch_size,-1,1,1)\n",
    "        img = torch.sum(img, dim=1, keepdims=True)\n",
    "        \n",
    "        img = 2*(img-0.5)               \n",
    "        \n",
    "        # Draw fixed points\n",
    "        img[img_query.tile(batch_size,1,1,1) == 1] = 1\n",
    "        \n",
    "        return img\n",
    "    \n",
    "\n",
    "def runlat(model):\n",
    "    opt = torch.optim.Adam(model.parameters(), lr=1, betas=(0, 0.9))\n",
    "    scheduler = torch.optim.lr_scheduler.LinearLR(opt, start_factor=1, end_factor=0.1, total_iters=1000)\n",
    "    diffusion = GaussianDiffusion(T=1000, schedule='linear')\n",
    "    # model.latent.data=temp\n",
    "\n",
    "    steps = STEPS\n",
    "    for i in range(steps):\n",
    "        t = ((steps-i) + (steps-i)//3*math.cos(i/50))/steps*diffusion.T # Linearly decreasing + cosine\n",
    "\n",
    "        t = np.clip(t, 1, diffusion.T)\n",
    "        t = np.array([t for _ in range(batch_size)]).astype(int)\n",
    "\n",
    "        # Denoise\n",
    "        xt, epsilon = diffusion.sample(model.encode(), t) \n",
    "        t = torch.from_numpy(t).float().view(batch_size)\n",
    "        epsilon_pred = diffusion_net(xt.float(), t.to(device))\n",
    "\n",
    "        loss = F.mse_loss(epsilon_pred, epsilon)\n",
    "\n",
    "        opt.zero_grad()\n",
    "        loss.backward()\n",
    "        opt.step()\n",
    "        scheduler.step()\n",
    "        \n",
    "def normalize(cost, entropy_reg=0.1, n_iters=20, eps=1e-6):\n",
    "    # Cost matrix is exp(-lambda*C)\n",
    "    cost_matrix = -entropy_reg * cost\n",
    "        \n",
    "    cost_matrix -= torch.eye(cost_matrix.shape[-1], device=cost_matrix.device)*100000\n",
    "    cost_matrix = cost_matrix - torch.logsumexp(cost_matrix, dim=-1, keepdim=True)\n",
    "    assignment_mat = torch.exp(cost_matrix)\n",
    "    \n",
    "    return assignment_mat"
   ]
  },
  {
   "cell_type": "code",
   "execution_count": 8,
   "metadata": {},
   "outputs": [
    {
     "name": "stdout",
     "output_type": "stream",
     "text": [
      "Loaded \"data/tsp50_test_concorde.txt\" with 1280 lines\n",
      "Created dataset\n"
     ]
    }
   ],
   "source": [
    "device = torch.device(f'cuda:0')\n",
    "batch_size = 1\n",
    "img_size = 64\n",
    "\n",
    "test_dataset = TSPDataset(data_file=f'data/tsp50_test_concorde.txt',\n",
    "                          img_size=img_size,\n",
    "                          point_radius=2, point_color=1,\n",
    "                          line_thickness=2, line_color=0.5)\n",
    "test_dataloader = torch.utils.data.DataLoader(test_dataset, batch_size=batch_size, shuffle=True)\n",
    "print('Created dataset')"
   ]
  },
  {
   "cell_type": "code",
   "execution_count": 9,
   "metadata": {},
   "outputs": [
    {
     "name": "stdout",
     "output_type": "stream",
     "text": [
      "Loaded model\n"
     ]
    }
   ],
   "source": [
    "diffusion_net = UNetModel(image_size=img_size, in_channels=1, out_channels=1, \n",
    "                          model_channels=64, num_res_blocks=2, channel_mult=(1,2,3,4),\n",
    "                          attention_resolutions=[16,8], num_heads=4).to(device)\n",
    "\n",
    "diffusion_net.load_state_dict(torch.load(f'models/unet50_64_8.pth'))\n",
    "diffusion_net.to(device)\n",
    "diffusion_net.train()\n",
    "print('Loaded model')"
   ]
  },
  {
   "cell_type": "code",
   "execution_count": 16,
   "metadata": {},
   "outputs": [
    {
     "data": {
      "image/png": "[encoded data removed]",
      "text/plain": [
       "<Figure size 640x480 with 1 Axes>"
      ]
     },
     "metadata": {},
     "output_type": "display_data"
    }
   ],
   "source": [
    "plt.imshow(img[0,0,:,:], cmap='gray')\n",
    "plt.show()"
   ]
  },
  {
   "cell_type": "code",
   "execution_count": 14,
   "metadata": {},
   "outputs": [],
   "source": [
    "STEPS=256\n",
    "\n",
    "nn = torch.nn\n",
    "costs = []\n",
    "nnn = 0\n",
    "for batch in test_dataloader:\n",
    "    nnn += 1\n",
    "    img, sample_idx = batch\n",
    "\n",
    "    _, points, gt_tour = test_dataset.rasterize(sample_idx[0].item())\n",
    "\n",
    "    img_query = torch.zeros_like(img)\n",
    "\n",
    "    img_query[img == 1] = 1\n",
    "\n",
    "    batch_idx=0\n",
    "    \n",
    "    model = InferenceModel().to(device)\n",
    "    runlat(model)\n",
    " \n",
    "    adj_mat = normalize((model.latent)).detach().cpu().numpy()[batch_idx]\n",
    "    adj_mat = adj_mat+adj_mat.T\n",
    "\n",
    "    dists = np.zeros_like(adj_mat)\n",
    "    for i in range(dists.shape[0]):\n",
    "        for j in range(dists.shape[0]):\n",
    "            dists[i,j] = np.linalg.norm(points[i]-points[j])\n",
    "    \n",
    "    components = np.zeros((adj_mat.shape[0],2)).astype(int)\n",
    "    components[:] = np.arange(adj_mat.shape[0])[...,None]\n",
    "    real_adj_mat = np.zeros_like(adj_mat)\n",
    "    for edge in (-adj_mat/dists).flatten().argsort():\n",
    "        a,b = edge//adj_mat.shape[0],edge%adj_mat.shape[0]\n",
    "        if not (a in components and b in components): continue\n",
    "        ca = np.nonzero((components==a).sum(1))[0][0]\n",
    "        cb = np.nonzero((components==b).sum(1))[0][0]\n",
    "        if ca==cb: continue\n",
    "        cca = sorted(components[ca],key=lambda x:x==a)\n",
    "        ccb = sorted(components[cb],key=lambda x:x==b)\n",
    "        newc = np.array([[cca[0],ccb[0]]])\n",
    "        m,M = min(ca,cb),max(ca,cb)\n",
    "        real_adj_mat[a,b] = 1\n",
    "        components = np.concatenate([components[:m],components[m+1:M],components[M+1:],newc],0)\n",
    "        if len(components)==1: break\n",
    "    real_adj_mat[components[0,1],components[0,0]] = 1\n",
    "    real_adj_mat += real_adj_mat.T\n",
    "    \n",
    "    tour = [0]\n",
    "    while len(tour)<adj_mat.shape[0]+1:\n",
    "        n = np.nonzero(real_adj_mat[tour[-1]])[0]\n",
    "        if len(tour)>1:\n",
    "            n = n[n!=tour[-2]]\n",
    "        tour.append(n.max())\n",
    "\n",
    "    # Refine using 2-opt\n",
    "    tsp_solver = TSP_2opt(points)\n",
    "    solved_tour, ns = tsp_solver.solve_2opt(tour)\n",
    "\n",
    "    def has_duplicates(l):\n",
    "        existing = []\n",
    "        for item in l:\n",
    "            if item in existing:\n",
    "                return True\n",
    "            existing.append(item)\n",
    "        return False\n",
    "\n",
    "    assert solved_tour[-1] == solved_tour[0], 'Tour not a cycle'\n",
    "    assert not has_duplicates(solved_tour[:-1]), 'Tour not Hamiltonian'\n",
    "\n",
    "    gt_cost = tsp_solver.evaluate([i-1 for i in gt_tour])\n",
    "    solved_cost = tsp_solver.evaluate(solved_tour)\n",
    "    print(f'Ground truth cost: {gt_cost:.3f}')\n",
    "    print(f'Predicted cost: {solved_cost:.3f} (Gap: {100*(solved_cost-gt_cost) / gt_cost:.4f}%)')\n",
    "    costs.append((solved_cost, gt_cost, ns))\n",
    "    if nnn % 1 == 0: \n",
    "        print((solved_cost-gt_cost)/gt_cost, sum(y[0] for y in costs)/sum(y[1] for y in costs)-1, ns)\n",
    "# print(costs)\n",
    "# print(sum(y[0] for y in costs), sum(y[1] for y in costs), sum(y[2] for y in costs)/len(costs))"
   ]
  },
  {
   "cell_type": "code",
   "execution_count": null,
   "metadata": {},
   "outputs": [],
   "source": []
  }
 ],
 "metadata": {
  "kernelspec": {
   "display_name": "Python 3",
   "language": "python",
   "name": "python3"
  },
  "language_info": {
   "codemirror_mode": {
    "name": "ipython",
    "version": 3
   },
   "file_extension": ".py",
   "mimetype": "text/x-python",
   "name": "python",
   "nbconvert_exporter": "python",
   "pygments_lexer": "ipython3",
   "version": "3.10.12"
  }
 },
 "nbformat": 4,
 "nbformat_minor": 2
}
